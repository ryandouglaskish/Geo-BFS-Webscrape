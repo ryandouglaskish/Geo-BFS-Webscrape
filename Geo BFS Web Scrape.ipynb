{
 "cells": [
  {
   "cell_type": "markdown",
   "metadata": {},
   "source": [
    "# Geo BFS Web Scraper\n",
    "Author: Ryan Kish\n",
    "\n",
    "Last Updated: February 30, 2019"
   ]
  },
  {
   "cell_type": "markdown",
   "metadata": {},
   "source": [
    "### Inputs"
   ]
  },
  {
   "cell_type": "code",
   "execution_count": 1,
   "metadata": {
    "ExecuteTime": {
     "end_time": "2020-10-01T19:17:32.892532Z",
     "start_time": "2020-10-01T19:17:32.889982Z"
    }
   },
   "outputs": [],
   "source": [
    "SCRAPE_NUMBER = 1\n",
    "TEMPLATE_CALL = \"FILL WITH XML REQUEST\"\n",
    "SHOP_COLUMNS = ['FILL WITH COLUMNS IN XML RESPONSE']"
   ]
  },
  {
   "cell_type": "markdown",
   "metadata": {},
   "source": [
    "### Libraries"
   ]
  },
  {
   "cell_type": "code",
   "execution_count": 2,
   "metadata": {
    "ExecuteTime": {
     "end_time": "2020-10-01T19:17:39.142060Z",
     "start_time": "2020-10-01T19:17:36.432839Z"
    }
   },
   "outputs": [],
   "source": [
    "import json\n",
    "import zipcodes\n",
    "from scipy.spatial import ConvexHull, convex_hull_plot_2d\n",
    "import requests\n",
    "import numpy as np\n",
    "import pandas as pd\n",
    "from os import listdir\n",
    "from os.path import isfile, join\n",
    "import ast"
   ]
  },
  {
   "cell_type": "markdown",
   "metadata": {},
   "source": [
    "### Set-up Zipcodes"
   ]
  },
  {
   "cell_type": "code",
   "execution_count": 3,
   "metadata": {
    "ExecuteTime": {
     "end_time": "2020-10-01T19:17:41.353715Z",
     "start_time": "2020-10-01T19:17:41.243423Z"
    }
   },
   "outputs": [
    {
     "name": "stdout",
     "output_type": "stream",
     "text": [
      "(42632, 15)\n"
     ]
    },
    {
     "data": {
      "text/html": [
       "<div>\n",
       "<style scoped>\n",
       "    .dataframe tbody tr th:only-of-type {\n",
       "        vertical-align: middle;\n",
       "    }\n",
       "\n",
       "    .dataframe tbody tr th {\n",
       "        vertical-align: top;\n",
       "    }\n",
       "\n",
       "    .dataframe thead th {\n",
       "        text-align: right;\n",
       "    }\n",
       "</style>\n",
       "<table border=\"1\" class=\"dataframe\">\n",
       "  <thead>\n",
       "    <tr style=\"text-align: right;\">\n",
       "      <th></th>\n",
       "      <th>zip</th>\n",
       "      <th>type</th>\n",
       "      <th>decommissioned</th>\n",
       "      <th>primary_city</th>\n",
       "      <th>acceptable_cities</th>\n",
       "      <th>unacceptable_cities</th>\n",
       "      <th>state</th>\n",
       "      <th>county</th>\n",
       "      <th>timezone</th>\n",
       "      <th>area_codes</th>\n",
       "      <th>world_region</th>\n",
       "      <th>country</th>\n",
       "      <th>latitude</th>\n",
       "      <th>longitude</th>\n",
       "      <th>irs_estimated_population_2015</th>\n",
       "    </tr>\n",
       "  </thead>\n",
       "  <tbody>\n",
       "    <tr>\n",
       "      <th>0</th>\n",
       "      <td>501</td>\n",
       "      <td>UNIQUE</td>\n",
       "      <td>0</td>\n",
       "      <td>Holtsville</td>\n",
       "      <td>NaN</td>\n",
       "      <td>I R S Service Center</td>\n",
       "      <td>NY</td>\n",
       "      <td>Suffolk County</td>\n",
       "      <td>America/New_York</td>\n",
       "      <td>631</td>\n",
       "      <td>NaN</td>\n",
       "      <td>US</td>\n",
       "      <td>40.81</td>\n",
       "      <td>-73.04</td>\n",
       "      <td>562</td>\n",
       "    </tr>\n",
       "    <tr>\n",
       "      <th>1</th>\n",
       "      <td>544</td>\n",
       "      <td>UNIQUE</td>\n",
       "      <td>0</td>\n",
       "      <td>Holtsville</td>\n",
       "      <td>NaN</td>\n",
       "      <td>Irs Service Center</td>\n",
       "      <td>NY</td>\n",
       "      <td>Suffolk County</td>\n",
       "      <td>America/New_York</td>\n",
       "      <td>631</td>\n",
       "      <td>NaN</td>\n",
       "      <td>US</td>\n",
       "      <td>40.81</td>\n",
       "      <td>-73.04</td>\n",
       "      <td>0</td>\n",
       "    </tr>\n",
       "    <tr>\n",
       "      <th>2</th>\n",
       "      <td>601</td>\n",
       "      <td>STANDARD</td>\n",
       "      <td>0</td>\n",
       "      <td>Adjuntas</td>\n",
       "      <td>NaN</td>\n",
       "      <td>Colinas Del Gigante, Jard De Adjuntas, Urb San...</td>\n",
       "      <td>PR</td>\n",
       "      <td>Adjuntas Municipio</td>\n",
       "      <td>America/Puerto_Rico</td>\n",
       "      <td>787,939</td>\n",
       "      <td>NaN</td>\n",
       "      <td>US</td>\n",
       "      <td>18.16</td>\n",
       "      <td>-66.72</td>\n",
       "      <td>0</td>\n",
       "    </tr>\n",
       "    <tr>\n",
       "      <th>3</th>\n",
       "      <td>602</td>\n",
       "      <td>STANDARD</td>\n",
       "      <td>0</td>\n",
       "      <td>Aguada</td>\n",
       "      <td>NaN</td>\n",
       "      <td>Alts De Aguada, Bo Guaniquilla, Comunidad Las ...</td>\n",
       "      <td>PR</td>\n",
       "      <td>Aguada Municipio</td>\n",
       "      <td>America/Puerto_Rico</td>\n",
       "      <td>787,939</td>\n",
       "      <td>NaN</td>\n",
       "      <td>US</td>\n",
       "      <td>18.38</td>\n",
       "      <td>-67.18</td>\n",
       "      <td>0</td>\n",
       "    </tr>\n",
       "    <tr>\n",
       "      <th>4</th>\n",
       "      <td>603</td>\n",
       "      <td>STANDARD</td>\n",
       "      <td>0</td>\n",
       "      <td>Aguadilla</td>\n",
       "      <td>Ramey</td>\n",
       "      <td>Bda Caban, Bda Esteves, Bo Borinquen, Bo Ceiba...</td>\n",
       "      <td>PR</td>\n",
       "      <td>Aguadilla Municipio</td>\n",
       "      <td>America/Puerto_Rico</td>\n",
       "      <td>787</td>\n",
       "      <td>NaN</td>\n",
       "      <td>US</td>\n",
       "      <td>18.43</td>\n",
       "      <td>-67.15</td>\n",
       "      <td>0</td>\n",
       "    </tr>\n",
       "  </tbody>\n",
       "</table>\n",
       "</div>"
      ],
      "text/plain": [
       "   zip      type  decommissioned primary_city acceptable_cities  \\\n",
       "0  501    UNIQUE               0   Holtsville               NaN   \n",
       "1  544    UNIQUE               0   Holtsville               NaN   \n",
       "2  601  STANDARD               0     Adjuntas               NaN   \n",
       "3  602  STANDARD               0       Aguada               NaN   \n",
       "4  603  STANDARD               0    Aguadilla             Ramey   \n",
       "\n",
       "                                 unacceptable_cities state  \\\n",
       "0                               I R S Service Center    NY   \n",
       "1                                 Irs Service Center    NY   \n",
       "2  Colinas Del Gigante, Jard De Adjuntas, Urb San...    PR   \n",
       "3  Alts De Aguada, Bo Guaniquilla, Comunidad Las ...    PR   \n",
       "4  Bda Caban, Bda Esteves, Bo Borinquen, Bo Ceiba...    PR   \n",
       "\n",
       "                county             timezone area_codes world_region country  \\\n",
       "0       Suffolk County     America/New_York        631          NaN      US   \n",
       "1       Suffolk County     America/New_York        631          NaN      US   \n",
       "2   Adjuntas Municipio  America/Puerto_Rico    787,939          NaN      US   \n",
       "3     Aguada Municipio  America/Puerto_Rico    787,939          NaN      US   \n",
       "4  Aguadilla Municipio  America/Puerto_Rico        787          NaN      US   \n",
       "\n",
       "   latitude  longitude  irs_estimated_population_2015  \n",
       "0     40.81     -73.04                            562  \n",
       "1     40.81     -73.04                              0  \n",
       "2     18.16     -66.72                              0  \n",
       "3     18.38     -67.18                              0  \n",
       "4     18.43     -67.15                              0  "
      ]
     },
     "execution_count": 3,
     "metadata": {},
     "output_type": "execute_result"
    }
   ],
   "source": [
    "zips = pd.read_csv(\"zip_code_database.csv\", low_memory=False)\n",
    "print(zips.shape)\n",
    "zips.head()"
   ]
  },
  {
   "cell_type": "code",
   "execution_count": null,
   "metadata": {
    "ExecuteTime": {
     "end_time": "2020-10-01T19:17:46.007888Z",
     "start_time": "2020-10-01T19:17:45.799682Z"
    }
   },
   "outputs": [],
   "source": [
    "states = zips[\"state\"].unique()\n",
    "state_zip_codes = {}\n",
    "for state in states:\n",
    "    zip_list = {}\n",
    "    for zipcode in list(zips[zips.state == state].zip):\n",
    "        new_zip = str(zipcode)\n",
    "        missing_vals = 5 - len(new_zip)\n",
    "        new_zip = (\"0\" * missing_vals) + new_zip\n",
    "        zip_list[new_zip] = False\n",
    "    state_zip_codes[state] = zip_list\n",
    "state_zip_codes.keys()"
   ]
  },
  {
   "cell_type": "markdown",
   "metadata": {},
   "source": [
    "## Algo"
   ]
  },
  {
   "cell_type": "code",
   "execution_count": null,
   "metadata": {
    "ExecuteTime": {
     "end_time": "2020-10-01T19:17:49.355530Z",
     "start_time": "2020-10-01T19:17:49.340703Z"
    }
   },
   "outputs": [],
   "source": [
    "def searchState(state, state_data):\n",
    "    print(\"+++++++++++++++++++++++++++++++++++++++++++++++++++\\n+++++++++++++++++++++++++++++++++++++++++++++++++++\")\n",
    "    print(\"State: {}\".format(state))\n",
    "\n",
    "    state_file = open(\"./Data/Scrape_{}/{}_records.txt\".format(SCRAPE_NUMBER, state), \"w\")\n",
    "    \n",
    "    num_requests = 0\n",
    "    witnessed = set()\n",
    "    \n",
    "    for zipcode in state_data.copy().keys():\n",
    "        # don't request data for zipcodes already requested (edge points already exhuasted)\n",
    "        if state_data[zipcode]:\n",
    "            continue\n",
    "        \n",
    "        print(\"    Zipcode: {}\".format(zipcode))\n",
    "\n",
    "        # get lat and long of zipcode\n",
    "        zip_data = zipcodes.matching((zipcode)) #?????????\n",
    "        if len(zip_data) == 0 or zip_data[0]['zip_code_type'] =='PO BOX':\n",
    "            continue\n",
    "\n",
    "        # breadth-first-search\n",
    "        queue = [(zip_data[0][\"lat\"], zip_data[0][\"long\"])] # rename to queue?\n",
    "        queue_seen = set()\n",
    "        while queue:\n",
    "            current_point = queue.pop()\n",
    "\n",
    "            resp = []\n",
    "            for i in range(10):\n",
    "                resp = requests.get(TEMPLATE_CALL.format(current_point[0], current_point[1]))\n",
    "                num_requests += 1\n",
    "                try:\n",
    "                    resp = resp.json()\n",
    "                    break\n",
    "                except:\n",
    "                    continue\n",
    "            raw_data = resp[\"Data\"]\n",
    "            \n",
    "            \n",
    "            coordinates = []\n",
    "            for shop in raw_data:\n",
    "                pair_coord = (shop[\"Latitude\"], shop[\"Longitude\"])\n",
    "                shop_zip = shop[\"Zip\"]\n",
    "                shop_state = shop[\"State\"]\n",
    "                \n",
    "                # only consider shops in state\n",
    "                if not shop_zip in state_data or shop_state != state:\n",
    "                    continue\n",
    "                    \n",
    "                # mark zip codes found in zip code query\n",
    "                state_data[zipcode] = True\n",
    "\n",
    "                # if hasn't previously been found or added to queue, save and write\n",
    "                if not pair_coord in queue_seen and pair_coord not in witnessed:\n",
    "                    state_file.write(str(shop))\n",
    "                    state_file.write(\"\\n\")\n",
    "                    coordinates.append(np.array([shop[\"Latitude\"], shop[\"Longitude\"]]))\n",
    "                    witnessed.add(pair_coord)\n",
    "\n",
    "            # add edge points to queue\n",
    "            if len(coordinates) > 0:\n",
    "                if len(coordinates) > 2:\n",
    "                    coordinates = np.array(coordinates)\n",
    "                    hull = ConvexHull(coordinates)\n",
    "                    for vert_index in hull.vertices:\n",
    "                        queue.append(tuple(coordinates[vert_index]))\n",
    "                        queue_seen.add(tuple(coordinates[vert_index]))\n",
    "                else:\n",
    "                    queue.append(tuple(coordinates[0]))\n",
    "                    queue_seen.add(tuple(coordinates[0]))\n",
    "                    if len(coordinates) > 1:\n",
    "                        queue.append(tuple(coordinates[1]))\n",
    "                        queue_seen.add(tuple(coordinates[1]))\n",
    "            print(\"        Cumulative number stores: {}\".format(len(witnessed)))\n",
    "            \n",
    "    print(\"Number of requests sent: {}\".format(num_requests))\n",
    "    state_file.close()"
   ]
  },
  {
   "cell_type": "code",
   "execution_count": null,
   "metadata": {
    "ExecuteTime": {
     "end_time": "2020-10-01T19:17:51.072685Z",
     "start_time": "2020-10-01T19:17:51.069983Z"
    }
   },
   "outputs": [],
   "source": [
    "def parse_abbr(states):\n",
    "    for state in states:\n",
    "        searchState(state, state_zip_codes[state])"
   ]
  },
  {
   "cell_type": "markdown",
   "metadata": {},
   "source": [
    "## Scrape"
   ]
  },
  {
   "cell_type": "code",
   "execution_count": null,
   "metadata": {
    "ExecuteTime": {
     "end_time": "2020-10-01T21:05:48.169248Z",
     "start_time": "2020-10-01T19:17:58.926077Z"
    }
   },
   "outputs": [],
   "source": [
    "batch = ['AK','AL','AP']\n",
    "parse_abbr(batch)"
   ]
  },
  {
   "cell_type": "markdown",
   "metadata": {},
   "source": [
    "## Create CSV and Count Stores\n",
    "If error from \".DS_Store\", then navigate to scrape folder and execute `$ find . -name '.DS_Store' -type f -delete`\n"
   ]
  },
  {
   "cell_type": "code",
   "execution_count": null,
   "metadata": {
    "ExecuteTime": {
     "end_time": "2020-07-07T22:36:22.028789Z",
     "start_time": "2020-07-07T22:36:22.025872Z"
    }
   },
   "outputs": [],
   "source": [
    "import os.path\n",
    "from os import path"
   ]
  },
  {
   "cell_type": "code",
   "execution_count": null,
   "metadata": {
    "ExecuteTime": {
     "end_time": "2020-07-07T22:36:25.488562Z",
     "start_time": "2020-07-07T22:36:25.485876Z"
    }
   },
   "outputs": [],
   "source": [
    "states.sort()"
   ]
  },
  {
   "cell_type": "code",
   "execution_count": null,
   "metadata": {
    "ExecuteTime": {
     "end_time": "2020-07-08T01:32:50.479072Z",
     "start_time": "2020-07-08T01:32:50.464781Z"
    }
   },
   "outputs": [],
   "source": [
    "all_records = pd.DataFrame(columns = SHOP_COLUMNS)"
   ]
  },
  {
   "cell_type": "code",
   "execution_count": null,
   "metadata": {
    "ExecuteTime": {
     "end_time": "2020-07-08T03:22:34.178401Z",
     "start_time": "2020-07-08T01:32:50.620515Z"
    }
   },
   "outputs": [],
   "source": [
    "count = 0\n",
    "for state in states:\n",
    "    #print(item)\n",
    "    if path.isfile(\"./Data/Scrape_{}/{}_records.txt\".format(SCRAPE_NUMBER, state)):\n",
    "        state_count = 0\n",
    "        file = open(\"./Data/Scrape_{}/{}_records.txt\".format(SCRAPE_NUMBER, state), \"r\")\n",
    "        text = file.read()\n",
    "        if len(text) == 0:\n",
    "            file.close()\n",
    "            continue\n",
    "        file_items = text.strip().split(\"\\n\")\n",
    "        for store in file_items:\n",
    "            #print(count)\n",
    "            if len(store) > 0:\n",
    "                all_records.loc[len(all_records)] = list((ast.literal_eval(store)).values())\n",
    "                state_count += 1\n",
    "        file.close()\n",
    "        print(state_count)\n",
    "        count += 1\n",
    "all_records.to_csv(\"./Data/Scrape_{}.csv\".format(SCRAPE_NUMBER))\n",
    "print(\"Aggregated: {} files\".format(count))"
   ]
  }
 ],
 "metadata": {
  "kernelspec": {
   "display_name": "Python 3 (ipykernel)",
   "language": "python",
   "name": "python3"
  },
  "language_info": {
   "codemirror_mode": {
    "name": "ipython",
    "version": 3
   },
   "file_extension": ".py",
   "mimetype": "text/x-python",
   "name": "python",
   "nbconvert_exporter": "python",
   "pygments_lexer": "ipython3",
   "version": "3.8.11"
  },
  "toc": {
   "base_numbering": 1,
   "nav_menu": {},
   "number_sections": true,
   "sideBar": true,
   "skip_h1_title": false,
   "title_cell": "Table of Contents",
   "title_sidebar": "Contents",
   "toc_cell": false,
   "toc_position": {
    "height": "calc(100% - 180px)",
    "left": "10px",
    "top": "150px",
    "width": "311.98529052734375px"
   },
   "toc_section_display": true,
   "toc_window_display": true
  },
  "varInspector": {
   "cols": {
    "lenName": 16,
    "lenType": 16,
    "lenVar": 40
   },
   "kernels_config": {
    "python": {
     "delete_cmd_postfix": "",
     "delete_cmd_prefix": "del ",
     "library": "var_list.py",
     "varRefreshCmd": "print(var_dic_list())"
    },
    "r": {
     "delete_cmd_postfix": ") ",
     "delete_cmd_prefix": "rm(",
     "library": "var_list.r",
     "varRefreshCmd": "cat(var_dic_list()) "
    }
   },
   "types_to_exclude": [
    "module",
    "function",
    "builtin_function_or_method",
    "instance",
    "_Feature"
   ],
   "window_display": false
  }
 },
 "nbformat": 4,
 "nbformat_minor": 2
}
